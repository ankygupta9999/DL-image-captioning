{
  "nbformat": 4,
  "nbformat_minor": 0,
  "metadata": {
    "colab": {
      "name": "DL_Assignment2.ipynb",
      "provenance": [],
      "collapsed_sections": [],
      "include_colab_link": true
    },
    "kernelspec": {
      "display_name": "Python 3",
      "language": "python",
      "name": "python3"
    },
    "language_info": {
      "codemirror_mode": {
        "name": "ipython",
        "version": 3
      },
      "file_extension": ".py",
      "mimetype": "text/x-python",
      "name": "python",
      "nbconvert_exporter": "python",
      "pygments_lexer": "ipython3",
      "version": "3.8.5"
    }
  },
  "cells": [
    {
      "cell_type": "markdown",
      "metadata": {
        "id": "view-in-github",
        "colab_type": "text"
      },
      "source": [
        "<a href=\"https://colab.research.google.com/github/ankygupta9999/DL-image-captioning/blob/main/DL_Assignment2.ipynb\" target=\"_parent\"><img src=\"https://colab.research.google.com/assets/colab-badge.svg\" alt=\"Open In Colab\"/></a>"
      ]
    },
    {
      "cell_type": "code",
      "metadata": {
        "id": "NHi0dbULuo2a"
      },
      "source": [
        "# copy dataset\n",
        "#!wget --no-check-certificate \\\n",
        "#  https://drive.google.com/file/d/1A8g74ohdb_5d2fPjc72yF7GxufE9GRcu/view?usp=sharing \\\n",
        "#  -O /tmp/set_1.pkl\n",
        "\n",
        "#!wget --no-check-certificate \\\n",
        "#  https://drive.google.com/file/d/1-mPKMpphaKqtT26ZzbR5hCHGedkNyAf1/view?usp=sharing \\\n",
        "#  -O /tmp/Image_captioning_Dataset.zip\n",
        "\n",
        "#!pip install PyDrive\n",
        "\n",
        "#from pydrive.auth import GoogleAuth\n",
        "#from pydrive.drive import GoogleDrive\n",
        "#from google.colab import auth\n",
        "#from oauth2client.client import GoogleCredentials\n",
        "\n",
        "#auth.authenticate_user()\n",
        "#gauth = GoogleAuth()\n",
        "#gauth.credentials = GoogleCredentials.get_application_default()\n",
        "#drive = GoogleDrive(gauth)\n",
        "\n",
        "# https://drive.google.com/file/d/1uaD3aDq1Xm7jFII6NYhbegtyREC6NAq-/view?usp=sharing\n",
        "#downloaded = drive.CreateFile({'id':\"1uaD3aDq1Xm7jFII6NYhbegtyREC6NAq-\"})   # replace the id with id of file you want to access\n",
        "#downloaded.GetContentFile('set_1.pkl')        # replace the file name with your file"
      ],
      "execution_count": null,
      "outputs": []
    },
    {
      "cell_type": "code",
      "metadata": {
        "id": "SM8-LM6Qisrv",
        "colab": {
          "base_uri": "https://localhost:8080/"
        },
        "outputId": "be932e3e-790f-4623-bb54-8758501dffb6"
      },
      "source": [
        "from google.colab import drive\n",
        "\n",
        "drive.mount('/content/gdrive')"
      ],
      "execution_count": 1,
      "outputs": [
        {
          "output_type": "stream",
          "text": [
            "Mounted at /content/gdrive\n"
          ],
          "name": "stdout"
        }
      ]
    },
    {
      "cell_type": "code",
      "metadata": {
        "id": "b-dxlxW17Sgs"
      },
      "source": [
        "drive"
      ],
      "execution_count": null,
      "outputs": []
    },
    {
      "cell_type": "code",
      "metadata": {
        "id": "Fith7wqfZ2mp"
      },
      "source": [
        "import pandas as pd\n",
        "import pickle\n",
        "import os\n",
        "\n",
        "FILE_PATH = \"/content/gdrive/MyDrive/bits/DL-assignment\"\n",
        "pickle_name = os.path.join(FILE_PATH, \"set_1.pkl\")"
      ],
      "execution_count": 2,
      "outputs": []
    },
    {
      "cell_type": "code",
      "metadata": {
        "colab": {
          "base_uri": "https://localhost:8080/"
        },
        "id": "5PcYuCEe70Py",
        "outputId": "b60b6171-2238-488b-dd0e-719ca79adb84"
      },
      "source": [
        "# Method 1\n",
        "objects = pd.read_pickle(pickle_name)\n",
        "df = pd.DataFrame(objects)\n",
        "print(type(df))\n",
        "print(df)\n",
        "\n",
        "# # Method 2\n",
        "# pickle_file = open(pickle_name, \"rb\")\n",
        "# objects = []\n",
        "\n",
        "# while True:\n",
        "#     try:\n",
        "#         objects.append(pickle.load(pickle_file))\n",
        "#     except EOFError:\n",
        "#         break\n",
        "\n",
        "# pickle_file.close()\n",
        "# df = pd.DataFrame(objects)\n",
        "# print(type(df))\n",
        "# print(df)"
      ],
      "execution_count": 3,
      "outputs": [
        {
          "output_type": "stream",
          "text": [
            "<class 'pandas.core.frame.DataFrame'>\n",
            "                                                       0\n",
            "0      2089122314_40d5739aef.jpg#3\\tA fluffy , tri-co...\n",
            "1      1295671216_cde1b9c9d1.jpg#0\\tA crowd of person...\n",
            "2      3183195185_cd0ff994a1.jpg#4\\tThe man and boy s...\n",
            "3      2949353587_64c54e9589.jpg#1\\tA brown dog be pl...\n",
            "4      361092202_3d70144ebd.jpg#2\\tA man hike with a ...\n",
            "...                                                  ...\n",
            "24995  3503623999_bbd5dcfb18.jpg#0\\tA man in a crowd ...\n",
            "24996  542405691_0594b1ce72.jpg#0\\tA boy kick a ball ...\n",
            "24997  1244485675_822e6efe60.jpg#1\\tA boy look at his...\n",
            "24998  475778645_65b7343c47.jpg#4\\tA small child clim...\n",
            "24999  381052465_722e00807b.jpg#4\\tPeople put out a f...\n",
            "\n",
            "[25000 rows x 1 columns]\n"
          ],
          "name": "stdout"
        }
      ]
    },
    {
      "cell_type": "code",
      "metadata": {
        "colab": {
          "base_uri": "https://localhost:8080/",
          "height": 35
        },
        "id": "afhSx6pE8G3n",
        "outputId": "9fe6df9b-a91f-463e-8c39-67d19e35d855"
      },
      "source": [
        "objects[0]"
      ],
      "execution_count": 6,
      "outputs": [
        {
          "output_type": "execute_result",
          "data": {
            "application/vnd.google.colaboratory.intrinsic+json": {
              "type": "string"
            },
            "text/plain": [
              "'2089122314_40d5739aef.jpg#3\\tA fluffy , tri-colored dog be run down a road with a paper in its mouth .'"
            ]
          },
          "metadata": {
            "tags": []
          },
          "execution_count": 6
        }
      ]
    },
    {
      "cell_type": "code",
      "metadata": {
        "colab": {
          "base_uri": "https://localhost:8080/"
        },
        "id": "FTyP1CRu8GxW",
        "outputId": "6bdf4b8e-947d-4bd7-87d6-19c6b6100be0"
      },
      "source": [
        "len(objects)"
      ],
      "execution_count": 7,
      "outputs": [
        {
          "output_type": "execute_result",
          "data": {
            "text/plain": [
              "25000"
            ]
          },
          "metadata": {
            "tags": []
          },
          "execution_count": 7
        }
      ]
    },
    {
      "cell_type": "code",
      "metadata": {
        "colab": {
          "base_uri": "https://localhost:8080/",
          "height": 204
        },
        "id": "ytnL19w68Gpf",
        "outputId": "5ccb91c1-1837-434e-ee2b-73f2eafa0bd5"
      },
      "source": [
        "raw_df = pd.DataFrame()\n",
        "for i, row in enumerate(objects):\n",
        "  img_dict = {}\n",
        "  img_dict['img_nm'] = str(row).split('#')[0]\n",
        "  img_dict['caption_id'] = row.split(img_dict['img_nm'])[1].split('\\t')[0]\n",
        "  img_dict['img_caption'] = row.split('\\t')[1]\n",
        "  raw_df =raw_df.append(img_dict, ignore_index=True)\n",
        "raw_df.head()"
      ],
      "execution_count": 26,
      "outputs": [
        {
          "output_type": "execute_result",
          "data": {
            "text/html": [
              "<div>\n",
              "<style scoped>\n",
              "    .dataframe tbody tr th:only-of-type {\n",
              "        vertical-align: middle;\n",
              "    }\n",
              "\n",
              "    .dataframe tbody tr th {\n",
              "        vertical-align: top;\n",
              "    }\n",
              "\n",
              "    .dataframe thead th {\n",
              "        text-align: right;\n",
              "    }\n",
              "</style>\n",
              "<table border=\"1\" class=\"dataframe\">\n",
              "  <thead>\n",
              "    <tr style=\"text-align: right;\">\n",
              "      <th></th>\n",
              "      <th>caption_id</th>\n",
              "      <th>img_caption</th>\n",
              "      <th>img_nm</th>\n",
              "    </tr>\n",
              "  </thead>\n",
              "  <tbody>\n",
              "    <tr>\n",
              "      <th>0</th>\n",
              "      <td>#3</td>\n",
              "      <td>A fluffy , tri-colored dog be run down a road ...</td>\n",
              "      <td>2089122314_40d5739aef.jpg</td>\n",
              "    </tr>\n",
              "    <tr>\n",
              "      <th>1</th>\n",
              "      <td>#0</td>\n",
              "      <td>A crowd of person be stand together on a sidew...</td>\n",
              "      <td>1295671216_cde1b9c9d1.jpg</td>\n",
              "    </tr>\n",
              "    <tr>\n",
              "      <th>2</th>\n",
              "      <td>#4</td>\n",
              "      <td>The man and boy sit on the ground , next to a ...</td>\n",
              "      <td>3183195185_cd0ff994a1.jpg</td>\n",
              "    </tr>\n",
              "    <tr>\n",
              "      <th>3</th>\n",
              "      <td>#1</td>\n",
              "      <td>A brown dog be play with a white fluffy stuff ...</td>\n",
              "      <td>2949353587_64c54e9589.jpg</td>\n",
              "    </tr>\n",
              "    <tr>\n",
              "      <th>4</th>\n",
              "      <td>#2</td>\n",
              "      <td>A man hike with a large backpack and two pole ...</td>\n",
              "      <td>361092202_3d70144ebd.jpg</td>\n",
              "    </tr>\n",
              "  </tbody>\n",
              "</table>\n",
              "</div>"
            ],
            "text/plain": [
              "  caption_id  ...                     img_nm\n",
              "0         #3  ...  2089122314_40d5739aef.jpg\n",
              "1         #0  ...  1295671216_cde1b9c9d1.jpg\n",
              "2         #4  ...  3183195185_cd0ff994a1.jpg\n",
              "3         #1  ...  2949353587_64c54e9589.jpg\n",
              "4         #2  ...   361092202_3d70144ebd.jpg\n",
              "\n",
              "[5 rows x 3 columns]"
            ]
          },
          "metadata": {
            "tags": []
          },
          "execution_count": 26
        }
      ]
    },
    {
      "cell_type": "code",
      "metadata": {
        "colab": {
          "base_uri": "https://localhost:8080/"
        },
        "id": "Ff9O7qMV80m8",
        "outputId": "0e231974-b347-48be-c7a1-fd9e44127655"
      },
      "source": [
        "raw_df.info(verbose=True)"
      ],
      "execution_count": 27,
      "outputs": [
        {
          "output_type": "stream",
          "text": [
            "<class 'pandas.core.frame.DataFrame'>\n",
            "RangeIndex: 25000 entries, 0 to 24999\n",
            "Data columns (total 3 columns):\n",
            " #   Column       Non-Null Count  Dtype \n",
            "---  ------       --------------  ----- \n",
            " 0   caption_id   25000 non-null  object\n",
            " 1   img_caption  25000 non-null  object\n",
            " 2   img_nm       25000 non-null  object\n",
            "dtypes: object(3)\n",
            "memory usage: 586.1+ KB\n"
          ],
          "name": "stdout"
        }
      ]
    },
    {
      "cell_type": "code",
      "metadata": {
        "colab": {
          "base_uri": "https://localhost:8080/"
        },
        "id": "hxn-nobj-53b",
        "outputId": "cb2cbf35-9b1d-4f0b-d114-0a6e9596da8c"
      },
      "source": [
        "len(raw_df.img_nm.unique())"
      ],
      "execution_count": 28,
      "outputs": [
        {
          "output_type": "execute_result",
          "data": {
            "text/plain": [
              "8033"
            ]
          },
          "metadata": {
            "tags": []
          },
          "execution_count": 28
        }
      ]
    }
  ]
}