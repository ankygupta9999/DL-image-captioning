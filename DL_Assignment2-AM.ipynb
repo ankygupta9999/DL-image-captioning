{
  "nbformat": 4,
  "nbformat_minor": 0,
  "metadata": {
    "colab": {
      "name": "DL_Assignment2.ipynb",
      "provenance": [],
      "collapsed_sections": []
    },
    "kernelspec": {
      "display_name": "Python 3",
      "language": "python",
      "name": "python3"
    },
    "language_info": {
      "codemirror_mode": {
        "name": "ipython",
        "version": 3
      },
      "file_extension": ".py",
      "mimetype": "text/x-python",
      "name": "python",
      "nbconvert_exporter": "python",
      "pygments_lexer": "ipython3",
      "version": "3.8.5"
    },
    "accelerator": "GPU"
  },
  "cells": [
    {
      "cell_type": "markdown",
      "metadata": {
        "id": "view-in-github"
      },
      "source": [
        "<a href=\"https://colab.research.google.com/github/ankygupta9999/DL-image-captioning/blob/main/DL_Assignment2_AG.ipynb\" target=\"_parent\"><img src=\"https://colab.research.google.com/assets/colab-badge.svg\" alt=\"Open In Colab\"/></a>"
      ]
    },
    {
      "cell_type": "code",
      "metadata": {
        "id": "SM8-LM6Qisrv",
        "colab": {
          "base_uri": "https://localhost:8080/"
        },
        "outputId": "071305d0-8fac-4897-a283-e94076b3362b"
      },
      "source": [
        "from google.colab import drive\n",
        "\n",
        "drive.mount('/content/gdrive')"
      ],
      "execution_count": 1,
      "outputs": [
        {
          "output_type": "stream",
          "text": [
            "Mounted at /content/gdrive\n"
          ],
          "name": "stdout"
        }
      ]
    },
    {
      "cell_type": "code",
      "metadata": {
        "id": "Fith7wqfZ2mp"
      },
      "source": [
        "import pandas as pd\n",
        "import pickle\n",
        "import os, re\n",
        "import numpy as np\n",
        "import matplotlib.pyplot as plt\n",
        "import nltk\n",
        "import re\n",
        "from nltk.stem import WordNetLemmatizer\n",
        "\n",
        "import tensorflow as tf\n",
        "from tensorflow import keras\n",
        "from tensorflow.keras import layers\n",
        "# from tensorflow.keras.applications import efficientnet, resnet50\n",
        "from tensorflow.keras.layers.experimental.preprocessing import TextVectorization\n",
        "from tensorflow.keras.preprocessing.text import Tokenizer\n",
        "from keras.applications.resnet50 import ResNet50\n",
        "from keras.preprocessing.image import load_img\n",
        "from keras.preprocessing.image import img_to_array\n",
        "from keras.applications.resnet50 import preprocess_input\n",
        "from keras.models import Model\n",
        "\n",
        "#Random seed\n",
        "seed = 42\n",
        "np.random.seed(seed)\n",
        "tf.random.set_seed(seed)\n",
        "\n",
        "FILE_PATH = \"/content/gdrive/MyDrive/Datasets\"\n",
        "IMAGE_DATA_PATH = \"/content/gdrive/MyDrive/Datasets/Image_captioning_Dataset.zip\"\n",
        "CAPTIONS_PATH = os.path.join(FILE_PATH, \"set_1.pkl\")"
      ],
      "execution_count": 2,
      "outputs": []
    },
    {
      "cell_type": "code",
      "metadata": {
        "id": "foOxIKo723i_"
      },
      "source": [
        "# Download the dataset\n",
        "# !unzip -q IMAGE_DATA_PATH\n",
        "import zipfile\n",
        "\n",
        "with zipfile.ZipFile(IMAGE_DATA_PATH, 'r') as zip_ref:\n",
        "    zip_ref.extractall(os.curdir)"
      ],
      "execution_count": 3,
      "outputs": []
    },
    {
      "cell_type": "code",
      "metadata": {
        "id": "f2nWDbk-5z1e"
      },
      "source": [
        "IMAGE_DATA_FOLDER = \"Flicker8k_Dataset/\""
      ],
      "execution_count": 4,
      "outputs": []
    },
    {
      "cell_type": "code",
      "metadata": {
        "colab": {
          "base_uri": "https://localhost:8080/"
        },
        "id": "5PcYuCEe70Py",
        "outputId": "36e6311c-c9be-45de-9330-d0f8579fd921"
      },
      "source": [
        "# Printing sample data\n",
        "objects = pd.read_pickle(CAPTIONS_PATH)\n",
        "df = pd.DataFrame(objects)\n",
        "print(type(df))\n",
        "print(df)"
      ],
      "execution_count": 5,
      "outputs": [
        {
          "output_type": "stream",
          "text": [
            "<class 'pandas.core.frame.DataFrame'>\n",
            "                                                       0\n",
            "0      2089122314_40d5739aef.jpg#3\\tA fluffy , tri-co...\n",
            "1      1295671216_cde1b9c9d1.jpg#0\\tA crowd of person...\n",
            "2      3183195185_cd0ff994a1.jpg#4\\tThe man and boy s...\n",
            "3      2949353587_64c54e9589.jpg#1\\tA brown dog be pl...\n",
            "4      361092202_3d70144ebd.jpg#2\\tA man hike with a ...\n",
            "...                                                  ...\n",
            "24995  3503623999_bbd5dcfb18.jpg#0\\tA man in a crowd ...\n",
            "24996  542405691_0594b1ce72.jpg#0\\tA boy kick a ball ...\n",
            "24997  1244485675_822e6efe60.jpg#1\\tA boy look at his...\n",
            "24998  475778645_65b7343c47.jpg#4\\tA small child clim...\n",
            "24999  381052465_722e00807b.jpg#4\\tPeople put out a f...\n",
            "\n",
            "[25000 rows x 1 columns]\n"
          ],
          "name": "stdout"
        }
      ]
    },
    {
      "cell_type": "code",
      "metadata": {
        "colab": {
          "base_uri": "https://localhost:8080/",
          "height": 204
        },
        "id": "ytnL19w68Gpf",
        "outputId": "e5908b72-8b3e-463e-ae57-beb34df00bf2"
      },
      "source": [
        "# Converting to a dataframe\n",
        "raw_df = pd.DataFrame()\n",
        "for i, row in enumerate(objects):\n",
        "  img_dict = {}\n",
        "  img_dict['img_nm'] = str(row).split('#')[0]\n",
        "  # img_dict['caption_id'] = row.split(img_dict['img_nm'])[1].split('\\t')[0]\n",
        "  img_dict['caption_id'] = str(row).split('#')[1].split('\\t')[0]\n",
        "  img_dict['img_caption'] = row.split('\\t')[1]\n",
        "  raw_df =raw_df.append(img_dict, ignore_index=True)\n",
        "raw_df.head()"
      ],
      "execution_count": 6,
      "outputs": [
        {
          "output_type": "execute_result",
          "data": {
            "text/html": [
              "<div>\n",
              "<style scoped>\n",
              "    .dataframe tbody tr th:only-of-type {\n",
              "        vertical-align: middle;\n",
              "    }\n",
              "\n",
              "    .dataframe tbody tr th {\n",
              "        vertical-align: top;\n",
              "    }\n",
              "\n",
              "    .dataframe thead th {\n",
              "        text-align: right;\n",
              "    }\n",
              "</style>\n",
              "<table border=\"1\" class=\"dataframe\">\n",
              "  <thead>\n",
              "    <tr style=\"text-align: right;\">\n",
              "      <th></th>\n",
              "      <th>caption_id</th>\n",
              "      <th>img_caption</th>\n",
              "      <th>img_nm</th>\n",
              "    </tr>\n",
              "  </thead>\n",
              "  <tbody>\n",
              "    <tr>\n",
              "      <th>0</th>\n",
              "      <td>3</td>\n",
              "      <td>A fluffy , tri-colored dog be run down a road ...</td>\n",
              "      <td>2089122314_40d5739aef.jpg</td>\n",
              "    </tr>\n",
              "    <tr>\n",
              "      <th>1</th>\n",
              "      <td>0</td>\n",
              "      <td>A crowd of person be stand together on a sidew...</td>\n",
              "      <td>1295671216_cde1b9c9d1.jpg</td>\n",
              "    </tr>\n",
              "    <tr>\n",
              "      <th>2</th>\n",
              "      <td>4</td>\n",
              "      <td>The man and boy sit on the ground , next to a ...</td>\n",
              "      <td>3183195185_cd0ff994a1.jpg</td>\n",
              "    </tr>\n",
              "    <tr>\n",
              "      <th>3</th>\n",
              "      <td>1</td>\n",
              "      <td>A brown dog be play with a white fluffy stuff ...</td>\n",
              "      <td>2949353587_64c54e9589.jpg</td>\n",
              "    </tr>\n",
              "    <tr>\n",
              "      <th>4</th>\n",
              "      <td>2</td>\n",
              "      <td>A man hike with a large backpack and two pole ...</td>\n",
              "      <td>361092202_3d70144ebd.jpg</td>\n",
              "    </tr>\n",
              "  </tbody>\n",
              "</table>\n",
              "</div>"
            ],
            "text/plain": [
              "  caption_id  ...                     img_nm\n",
              "0          3  ...  2089122314_40d5739aef.jpg\n",
              "1          0  ...  1295671216_cde1b9c9d1.jpg\n",
              "2          4  ...  3183195185_cd0ff994a1.jpg\n",
              "3          1  ...  2949353587_64c54e9589.jpg\n",
              "4          2  ...   361092202_3d70144ebd.jpg\n",
              "\n",
              "[5 rows x 3 columns]"
            ]
          },
          "metadata": {
            "tags": []
          },
          "execution_count": 6
        }
      ]
    },
    {
      "cell_type": "code",
      "metadata": {
        "id": "Z215arwECHEy"
      },
      "source": [
        "# raw_df[raw_df.img_nm == '2258277193_586949ec62.jpg.1']['img_nm'] = '2258277193_586949ec62.jpg'\n",
        "raw_df.drop(raw_df[raw_df.img_nm == '2258277193_586949ec62.jpg.1'].index, inplace=True)"
      ],
      "execution_count": 7,
      "outputs": []
    },
    {
      "cell_type": "code",
      "metadata": {
        "colab": {
          "base_uri": "https://localhost:8080/"
        },
        "id": "Ff9O7qMV80m8",
        "outputId": "41c3d0a0-352c-4211-839c-3df54cd97792"
      },
      "source": [
        "raw_df.info(verbose=True)"
      ],
      "execution_count": 8,
      "outputs": [
        {
          "output_type": "stream",
          "text": [
            "<class 'pandas.core.frame.DataFrame'>\n",
            "Int64Index: 24996 entries, 0 to 24999\n",
            "Data columns (total 3 columns):\n",
            " #   Column       Non-Null Count  Dtype \n",
            "---  ------       --------------  ----- \n",
            " 0   caption_id   24996 non-null  object\n",
            " 1   img_caption  24996 non-null  object\n",
            " 2   img_nm       24996 non-null  object\n",
            "dtypes: object(3)\n",
            "memory usage: 781.1+ KB\n"
          ],
          "name": "stdout"
        }
      ]
    },
    {
      "cell_type": "code",
      "metadata": {
        "colab": {
          "base_uri": "https://localhost:8080/"
        },
        "id": "hxn-nobj-53b",
        "outputId": "a02d7f43-a40b-4409-866e-0527162f399c"
      },
      "source": [
        "print(len(raw_df.img_nm.unique()))\n",
        "print(len(os.listdir(IMAGE_DATA_FOLDER)))"
      ],
      "execution_count": 9,
      "outputs": [
        {
          "output_type": "stream",
          "text": [
            "8032\n",
            "8091\n"
          ],
          "name": "stdout"
        }
      ]
    },
    {
      "cell_type": "code",
      "metadata": {
        "id": "3Ebd3QdJ6ikc"
      },
      "source": [
        "import cv2\n",
        "import matplotlib.pyplot as plt\n",
        "import matplotlib.image as mpimg\n"
      ],
      "execution_count": 10,
      "outputs": []
    },
    {
      "cell_type": "code",
      "metadata": {
        "id": "NmUMAClV8dUr"
      },
      "source": [
        "def print_sample_imgs(img_dir, pics, nrows, ncols, nimages, df):\n",
        "  nrows = nrows\n",
        "  ncols = ncols\n",
        "\n",
        "  # Index for iterating over images\n",
        "  pic_index = 0\n",
        "  # Set up matplotlib fig, and size it to fit 4x4 pics\n",
        "  fig = plt.gcf()\n",
        "  fig.set_size_inches(ncols * 6, nrows * 3)\n",
        "\n",
        "  print(\"======================================================\")\n",
        "  print(\"============== Printing Sample images ================\")\n",
        "  print(\"======================================================\")\n",
        "  j = 1\n",
        "  for i, img_nm in enumerate(pics):\n",
        "    if i < nimages:\n",
        "      # print (\"printing {} , image :{}\".format(i, img_nm))\n",
        "      caption = list(df[df['img_nm'] == img_nm]['img_caption'])[0]\n",
        "      just_img_nm = img_nm.split(sep='.')[0]\n",
        "      # Set up subplot; subplot indices start at 1\n",
        "      sp = plt.subplot(nrows, ncols, j)\n",
        "      sp.axis('Off') # Don't show axes (or gridlines)\n",
        "      sp.set_title(\"Img # \"+ str(i+1) + \" - Caption :\" +caption, loc='left')\n",
        "      raw_img_nm = img_dir + '/' + img_nm\n",
        "      img = mpimg.imread(raw_img_nm)\n",
        "      plt.imshow(img)\n",
        "\n",
        "      j = j + 1\n",
        "    else:\n",
        "      break\n",
        "  plt.show()"
      ],
      "execution_count": 11,
      "outputs": []
    },
    {
      "cell_type": "markdown",
      "metadata": {
        "id": "PO_56GTq_IZE"
      },
      "source": [
        "**Plot at least two samples and their captions (use matplotlib/seaborn/any other library).**"
      ]
    },
    {
      "cell_type": "code",
      "metadata": {
        "colab": {
          "base_uri": "https://localhost:8080/",
          "height": 407
        },
        "id": "ozVSaUZK9QOe",
        "outputId": "e9f2cc7c-beb9-4491-eab3-11e87a1f1f45"
      },
      "source": [
        "print_sample_imgs(IMAGE_DATA_FOLDER, os.listdir(IMAGE_DATA_FOLDER), nrows=5, ncols=1, nimages=2, df=raw_df)"
      ],
      "execution_count": 12,
      "outputs": [
        {
          "output_type": "stream",
          "text": [
            "======================================================\n",
            "============== Printing Sample images ================\n",
            "======================================================\n"
          ],
          "name": "stdout"
        },
        {
          "output_type": "display_data",
          "data": {
            "image/png": "[encoded data removed]",
            "text/plain": [
              "<Figure size 432x1080 with 2 Axes>"
            ]
          },
          "metadata": {
            "tags": [],
            "needs_background": "light"
          }
        }
      ]
    },
    {
      "cell_type": "markdown",
      "metadata": {
        "id": "bl3q0Ilo_-hY"
      },
      "source": [
        "**Data Preparation**"
      ]
    },
    {
      "cell_type": "markdown",
      "metadata": {
        "id": "BQ8x5A_2H9DX"
      },
      "source": [
        "**Model Building**"
      ]
    },
    {
      "cell_type": "code",
      "metadata": {
        "id": "4rRnMRkB0QtF"
      },
      "source": [
        "# extrat Features\n",
        "def extract_features(directory):\n",
        "    \n",
        "    model = ResNet50()\n",
        "    \n",
        "    #remove last layer\n",
        "    model.layers.pop()\n",
        "    \n",
        "    model = Model(inputs = model.inputs , outputs = model.layers[-1].output)\n",
        "    \n",
        "    print(model.summary())\n",
        "    \n",
        "    features = dict()\n",
        "    \n",
        "    for i, name in enumerate(os.listdir(directory)):\n",
        "        \n",
        "        # load and image\n",
        "        filename = directory + '/' + name\n",
        "        image = load_img(filename , target_size=(224 , 224))\n",
        "        \n",
        "        image = img_to_array(image)\n",
        "        \n",
        "        image = image.reshape((1 , image.shape[0] , image.shape[1] ,image.shape[2]))\n",
        "        \n",
        "        image = preprocess_input(image)\n",
        "        \n",
        "        feature = model.predict(image , verbose = 0)\n",
        "        \n",
        "        # get image id\n",
        "        if (name == '2258277193_586949ec62.jpg.1'):\n",
        "          print(i, name)\n",
        "          print ('fixing strange image id :',name, name.split(\".\")[0])\n",
        "          image_id = '2258277193_586949ec62'\n",
        "        else:\n",
        "          image_id = name.split(\".\")[0]\n",
        "        \n",
        "        # store features\n",
        "        features[image_id] = feature\n",
        "        \n",
        "        # print(i, name)\n",
        "        \n",
        "    return features"
      ],
      "execution_count": 13,
      "outputs": []
    },
    {
      "cell_type": "code",
      "metadata": {
        "id": "BMjK2oU04N5Q",
        "colab": {
          "base_uri": "https://localhost:8080/"
        },
        "outputId": "501ee448-1e88-4fb0-f4d6-db991b5ebfa8"
      },
      "source": [
        "directory = 'Flicker8k_Dataset'\n",
        "features = extract_features(directory)\n",
        "print('extracted features :',len(features))\n",
        "pickle.dump(features , open('features.pkl' , 'wb'))"
      ],
      "execution_count": 16,
      "outputs": [
        {
          "output_type": "stream",
          "text": [
            "Model: \"model_2\"\n",
            "__________________________________________________________________________________________________\n",
            "Layer (type)                    Output Shape         Param #     Connected to                     \n",
            "==================================================================================================\n",
            "Total params: 25,636,712\n",
            "Trainable params: 25,583,592\n",
            "Non-trainable params: 53,120\n",
            "__________________________________________________________________________________________________\n",
            "None\n",
            "extracted features : 8091\n"
          ],
          "name": "stdout"
        }
      ]
    },
    {
      "cell_type": "markdown",
      "metadata": {
        "id": "vsTEg1420Xu_"
      },
      "source": [
        "Create Vocabulary from Images"
      ]
    },
    {
      "cell_type": "code",
      "metadata": {
        "id": "Hnds8rB10QqZ"
      },
      "source": [
        "lemma = WordNetLemmatizer()\n",
        "\n",
        "def load_decriptions(doc):\n",
        "    mapping = dict()\n",
        "    \n",
        "    for i in range(len(doc)):\n",
        "        image_id = doc['img_nm'][i]\n",
        "        image_desc = doc['img_caption'][i]\n",
        "        \n",
        "        if image_id not in mapping:\n",
        "            mapping[image_id] = list()\n",
        "        \n",
        "        mapping[image_id].append(image_desc)\n",
        "        \n",
        "    return mapping\n",
        "\n",
        "def clean_text(desc):\n",
        "    \n",
        "    # clean punctuation\n",
        "    desc = re.sub(r'[^\\w\\s]' ,'', desc)\n",
        "    \n",
        "    # tokenize the words\n",
        "    desc = desc.split()\n",
        "    \n",
        "    # convert to lower case\n",
        "    desc = [token.lower() for token in desc]\n",
        "    \n",
        "    # lemmatization\n",
        "    desc = [lemma.lemmatize(token) for token in desc]\n",
        "    \n",
        "    # remove numerical values\n",
        "    desc = [token for token in desc if token.isalpha()]\n",
        "    \n",
        "    # join whole token\n",
        "    desc = ' '.join(desc)\n",
        "    \n",
        "    return desc"
      ],
      "execution_count": 17,
      "outputs": []
    },
    {
      "cell_type": "code",
      "metadata": {
        "id": "ywpvclo70Qm5"
      },
      "source": [
        "# convert loaded descriptions into vocablury\n",
        "def to_vocabluary(descriptions):\n",
        "    all_desc = set()\n",
        "    \n",
        "    for key in descriptions.keys():\n",
        "        [all_desc.update(d.split()) for d in descriptions[key]]\n",
        "        \n",
        "    return all_desc\n",
        "\n",
        "def save_descriptions(descriptions , filename):\n",
        "    lines = list()\n",
        "    \n",
        "    for key , desc_list in descriptions.items():\n",
        "        for desc in desc_list:\n",
        "            lines.append(key +' '+ desc)\n",
        "            \n",
        "    data = '\\n'.join(lines)\n",
        "    file = open(filename , 'w')\n",
        "    file.write(data)\n",
        "    file.close()"
      ],
      "execution_count": 18,
      "outputs": []
    },
    {
      "cell_type": "code",
      "metadata": {
        "colab": {
          "base_uri": "https://localhost:8080/",
          "height": 204
        },
        "id": "mwnQoDn50vVX",
        "outputId": "ee691a30-9cf0-4a5f-da4e-bb34a6d072fa"
      },
      "source": [
        "raw_df.head()"
      ],
      "execution_count": 19,
      "outputs": [
        {
          "output_type": "execute_result",
          "data": {
            "text/html": [
              "<div>\n",
              "<style scoped>\n",
              "    .dataframe tbody tr th:only-of-type {\n",
              "        vertical-align: middle;\n",
              "    }\n",
              "\n",
              "    .dataframe tbody tr th {\n",
              "        vertical-align: top;\n",
              "    }\n",
              "\n",
              "    .dataframe thead th {\n",
              "        text-align: right;\n",
              "    }\n",
              "</style>\n",
              "<table border=\"1\" class=\"dataframe\">\n",
              "  <thead>\n",
              "    <tr style=\"text-align: right;\">\n",
              "      <th></th>\n",
              "      <th>caption_id</th>\n",
              "      <th>img_caption</th>\n",
              "      <th>img_nm</th>\n",
              "    </tr>\n",
              "  </thead>\n",
              "  <tbody>\n",
              "    <tr>\n",
              "      <th>0</th>\n",
              "      <td>3</td>\n",
              "      <td>A fluffy , tri-colored dog be run down a road ...</td>\n",
              "      <td>2089122314_40d5739aef.jpg</td>\n",
              "    </tr>\n",
              "    <tr>\n",
              "      <th>1</th>\n",
              "      <td>0</td>\n",
              "      <td>A crowd of person be stand together on a sidew...</td>\n",
              "      <td>1295671216_cde1b9c9d1.jpg</td>\n",
              "    </tr>\n",
              "    <tr>\n",
              "      <th>2</th>\n",
              "      <td>4</td>\n",
              "      <td>The man and boy sit on the ground , next to a ...</td>\n",
              "      <td>3183195185_cd0ff994a1.jpg</td>\n",
              "    </tr>\n",
              "    <tr>\n",
              "      <th>3</th>\n",
              "      <td>1</td>\n",
              "      <td>A brown dog be play with a white fluffy stuff ...</td>\n",
              "      <td>2949353587_64c54e9589.jpg</td>\n",
              "    </tr>\n",
              "    <tr>\n",
              "      <th>4</th>\n",
              "      <td>2</td>\n",
              "      <td>A man hike with a large backpack and two pole ...</td>\n",
              "      <td>361092202_3d70144ebd.jpg</td>\n",
              "    </tr>\n",
              "  </tbody>\n",
              "</table>\n",
              "</div>"
            ],
            "text/plain": [
              "  caption_id  ...                     img_nm\n",
              "0          3  ...  2089122314_40d5739aef.jpg\n",
              "1          0  ...  1295671216_cde1b9c9d1.jpg\n",
              "2          4  ...  3183195185_cd0ff994a1.jpg\n",
              "3          1  ...  2949353587_64c54e9589.jpg\n",
              "4          2  ...   361092202_3d70144ebd.jpg\n",
              "\n",
              "[5 rows x 3 columns]"
            ]
          },
          "metadata": {
            "tags": []
          },
          "execution_count": 19
        }
      ]
    },
    {
      "cell_type": "code",
      "metadata": {
        "id": "m5lcYnj40vR_"
      },
      "source": [
        "raw_df['caption_id'] = raw_df['caption_id'].apply(lambda x : x.lstrip('#'))"
      ],
      "execution_count": 20,
      "outputs": []
    },
    {
      "cell_type": "code",
      "metadata": {
        "colab": {
          "base_uri": "https://localhost:8080/"
        },
        "id": "r5m3VZxS1bqs",
        "outputId": "f5d7a6e6-d1b4-4ef4-b2ad-16431c600268"
      },
      "source": [
        "nltk.download('wordnet')"
      ],
      "execution_count": 21,
      "outputs": [
        {
          "output_type": "stream",
          "text": [
            "[nltk_data] Downloading package wordnet to /root/nltk_data...\n",
            "[nltk_data]   Unzipping corpora/wordnet.zip.\n"
          ],
          "name": "stdout"
        },
        {
          "output_type": "execute_result",
          "data": {
            "text/plain": [
              "True"
            ]
          },
          "metadata": {
            "tags": []
          },
          "execution_count": 21
        }
      ]
    },
    {
      "cell_type": "code",
      "metadata": {
        "id": "zhgi1Q4p0vPJ"
      },
      "source": [
        "raw_df['img_caption'] = raw_df['img_caption'].apply(lambda x : clean_text(str(x)))"
      ],
      "execution_count": 22,
      "outputs": []
    },
    {
      "cell_type": "code",
      "metadata": {
        "id": "spJuOEoPNzb4"
      },
      "source": [
        "raw_df.reset_index(drop=True, inplace=True)"
      ],
      "execution_count": 23,
      "outputs": []
    },
    {
      "cell_type": "code",
      "metadata": {
        "id": "8Jsp9NsF1gM7"
      },
      "source": [
        "img_caption_map = load_decriptions(raw_df)"
      ],
      "execution_count": 24,
      "outputs": []
    },
    {
      "cell_type": "code",
      "metadata": {
        "id": "YUiPooxd1gKb"
      },
      "source": [
        "vocabulary = to_vocabluary(img_caption_map)"
      ],
      "execution_count": 25,
      "outputs": []
    },
    {
      "cell_type": "code",
      "metadata": {
        "colab": {
          "base_uri": "https://localhost:8080/"
        },
        "id": "g91Ym1v71gHR",
        "outputId": "03db5302-d043-456c-aa9c-c8d0cc43f9e1"
      },
      "source": [
        "len(vocabulary)"
      ],
      "execution_count": 26,
      "outputs": [
        {
          "output_type": "execute_result",
          "data": {
            "text/plain": [
              "5387"
            ]
          },
          "metadata": {
            "tags": []
          },
          "execution_count": 26
        }
      ]
    },
    {
      "cell_type": "code",
      "metadata": {
        "id": "ESSz12WL1gC8"
      },
      "source": [
        "save_descriptions(img_caption_map , 'descriptions.txt')"
      ],
      "execution_count": 27,
      "outputs": []
    },
    {
      "cell_type": "markdown",
      "metadata": {
        "id": "dBAzBCUh2l84"
      },
      "source": [
        "Train set"
      ]
    },
    {
      "cell_type": "code",
      "metadata": {
        "id": "GDqP9VPg1fqK"
      },
      "source": [
        "from pickle import load\n"
      ],
      "execution_count": 28,
      "outputs": []
    },
    {
      "cell_type": "code",
      "metadata": {
        "id": "JjHCWM-c0PIT"
      },
      "source": [
        "# loading the doc\n",
        "def load_doc(filename):\n",
        "    file = open(filename , 'r')\n",
        "    text = file.read()\n",
        "    file.close()\n",
        "    return text\n",
        "\n",
        "# this function is used for to get train image description from our dataset\n",
        "\n",
        "def load_clean_descriptions(filename , dataset):\n",
        "    doc = load_doc(filename)\n",
        "    descriptions = dict()\n",
        "    \n",
        "    for line in doc.split('\\n'):\n",
        "        tokens = line.split()\n",
        "        image_id , image_desc = tokens[0] , tokens[1:]\n",
        "        \n",
        "        if image_id in dataset:\n",
        "            \n",
        "            if image_id not in descriptions:\n",
        "                descriptions[image_id] = list()\n",
        "            \n",
        "            # we add two tage at start and at end of the descitpion to identify to start and \n",
        "            # end of desc.\n",
        "            desc = 'startseq '+ ' '.join(image_desc)+ ' endseq'\n",
        "            descriptions[image_id].append(desc)\n",
        "            \n",
        "    return descriptions\n",
        "\n",
        "\n",
        "# laod photo features\n",
        "def load_photo_features(filename , dataset):\n",
        "    all_features = pickle.load(open(filename,'rb'))\n",
        "    features = {k+'.jpg' : all_features[k] for k in dataset}\n",
        "    # features={}\n",
        "    # for k in dataset:\n",
        "      # if k in all_features.keys():\n",
        "        # features[k+'.jpg'] = all_features[k]\n",
        "      # else:\n",
        "        # pass\n",
        "    return features"
      ],
      "execution_count": 29,
      "outputs": []
    },
    {
      "cell_type": "code",
      "metadata": {
        "colab": {
          "base_uri": "https://localhost:8080/"
        },
        "id": "6nh46w7Y2wxk",
        "outputId": "e0ea1110-4779-45d8-ba8b-bf27262d0e94"
      },
      "source": [
        "raw_df.columns"
      ],
      "execution_count": 30,
      "outputs": [
        {
          "output_type": "execute_result",
          "data": {
            "text/plain": [
              "Index(['caption_id', 'img_caption', 'img_nm'], dtype='object')"
            ]
          },
          "metadata": {
            "tags": []
          },
          "execution_count": 30
        }
      ]
    },
    {
      "cell_type": "code",
      "metadata": {
        "colab": {
          "base_uri": "https://localhost:8080/"
        },
        "id": "Q1kgT3xUz239",
        "outputId": "fb6f9f01-5029-4997-bfc4-0c1579f52324"
      },
      "source": [
        "len(raw_df.img_nm)"
      ],
      "execution_count": 31,
      "outputs": [
        {
          "output_type": "execute_result",
          "data": {
            "text/plain": [
              "24996"
            ]
          },
          "metadata": {
            "tags": []
          },
          "execution_count": 31
        }
      ]
    },
    {
      "cell_type": "code",
      "metadata": {
        "colab": {
          "base_uri": "https://localhost:8080/"
        },
        "id": "Rdtd1jyc2st0",
        "outputId": "ad33814e-12b0-4152-be80-3f583a3defe2"
      },
      "source": [
        "train = set(raw_df['img_nm'][:10000])\n",
        "print('len of train image',len(train))"
      ],
      "execution_count": 32,
      "outputs": [
        {
          "output_type": "stream",
          "text": [
            "len of train image 6146\n"
          ],
          "name": "stdout"
        }
      ]
    },
    {
      "cell_type": "code",
      "metadata": {
        "id": "RiORTOrs2sn6"
      },
      "source": [
        "# training set making and set startseq and endseq tag in descriptions\n",
        "train_descriptions = load_clean_descriptions('descriptions.txt' , train)"
      ],
      "execution_count": 33,
      "outputs": []
    },
    {
      "cell_type": "code",
      "metadata": {
        "colab": {
          "base_uri": "https://localhost:8080/"
        },
        "id": "pXCnXR3p2slE",
        "outputId": "a400e1db-dba2-4109-d464-860fb93cdbc0"
      },
      "source": [
        "print('len of train descriptions' , len(train_descriptions))"
      ],
      "execution_count": 34,
      "outputs": [
        {
          "output_type": "stream",
          "text": [
            "len of train descriptions 6146\n"
          ],
          "name": "stdout"
        }
      ]
    },
    {
      "cell_type": "code",
      "metadata": {
        "id": "wywqAuUF2shw"
      },
      "source": [
        "train = pd.DataFrame(train)"
      ],
      "execution_count": 35,
      "outputs": []
    },
    {
      "cell_type": "code",
      "metadata": {
        "id": "-y5HUu362seo"
      },
      "source": [
        "train2 = train[0].apply(lambda x : x.replace('.jpg' , '')) # remove jpg sign"
      ],
      "execution_count": 36,
      "outputs": []
    },
    {
      "cell_type": "code",
      "metadata": {
        "colab": {
          "base_uri": "https://localhost:8080/"
        },
        "id": "HZui5AHf2sb_",
        "outputId": "738a2727-958c-4a51-8161-e200c9edff4f"
      },
      "source": [
        "# train features means feautures from training images\n",
        "train_features = load_photo_features('features.pkl' , train2)\n",
        "print('photos train :',len(train_features))"
      ],
      "execution_count": 37,
      "outputs": [
        {
          "output_type": "stream",
          "text": [
            "photos train : 6146\n"
          ],
          "name": "stdout"
        }
      ]
    },
    {
      "cell_type": "code",
      "metadata": {
        "id": "ovtbanzY2sTQ"
      },
      "source": [
        "# convert dictonary to list descriptions\n",
        "\n",
        "def to_lines(descriptions):\n",
        "    all_desc = list()\n",
        "    for key in descriptions.keys():\n",
        "        [all_desc.append(d) for d in descriptions[key]]\n",
        "        \n",
        "    return all_desc\n",
        "\n",
        "# fit tokenizer on descriptions\n",
        "def create_tokenizer(descriptions):\n",
        "    lines = to_lines(descriptions)\n",
        "    tokenizer = Tokenizer()\n",
        "    tokenizer.fit_on_texts(lines)\n",
        "    return tokenizer"
      ],
      "execution_count": 38,
      "outputs": []
    },
    {
      "cell_type": "code",
      "metadata": {
        "colab": {
          "base_uri": "https://localhost:8080/"
        },
        "id": "nJEZ9GHA2sQP",
        "outputId": "f0246785-82a1-4d39-8f05-b7f2befbcc4c"
      },
      "source": [
        "tokenizer = create_tokenizer(train_descriptions)\n",
        "vocab_size = len(tokenizer.word_index) + 1\n",
        "print('vocab size' , vocab_size)"
      ],
      "execution_count": 39,
      "outputs": [
        {
          "output_type": "stream",
          "text": [
            "vocab size 4919\n"
          ],
          "name": "stdout"
        }
      ]
    },
    {
      "cell_type": "code",
      "metadata": {
        "id": "pzPbwSkj2sK3"
      },
      "source": [
        "from keras.preprocessing.sequence import pad_sequences\n",
        "from tensorflow.keras.utils import to_categorical\n",
        "import numpy as np"
      ],
      "execution_count": 40,
      "outputs": []
    },
    {
      "cell_type": "code",
      "metadata": {
        "id": "8l2Ykze2-oh4"
      },
      "source": [
        "# calculate the length with most words\n",
        "def max_length(descriptions):\n",
        "    lines = to_lines(descriptions)\n",
        "    return max([len(line.split())for line in lines])\n",
        "    \n",
        "# create sequences of images,input sequences and output sequences\n",
        "def create_sequences(tokenizer , max_length , desc_list , photo):\n",
        "    X1 , X2 , y = list() , list() , list()\n",
        "    \n",
        "    for desc in desc_list:\n",
        "        # convert words to number value\n",
        "        seq = tokenizer.texts_to_sequences([desc])[0]\n",
        "        \n",
        "        for i in range(1, len(seq)):\n",
        "            \n",
        "            in_seq , output_seq = seq[:i] , seq[i]\n",
        "            in_seq = pad_sequences([in_seq] , maxlen = max_length)[0]\n",
        "            output_seq = to_categorical([output_seq] , num_classes = vocab_size)[0]\n",
        "            \n",
        "            X1.append(photo)\n",
        "            X2.append(in_seq)\n",
        "            y.append(output_seq)\n",
        "            \n",
        "    return np.array(X1) , np.array(X2) , np.array(y)"
      ],
      "execution_count": 41,
      "outputs": []
    },
    {
      "cell_type": "code",
      "metadata": {
        "id": "fMr1kbH0-ofP"
      },
      "source": [
        "from keras.models import Model\n",
        "from keras.layers import Input , Dense , LSTM , Embedding , Dropout\n",
        "from keras.layers.merge import add\n",
        "from keras.callbacks import EarlyStopping"
      ],
      "execution_count": 42,
      "outputs": []
    },
    {
      "cell_type": "code",
      "metadata": {
        "id": "InDmN0Po-ocQ"
      },
      "source": [
        "def define_Model(vocab_size , max_length):\n",
        "    \n",
        "    # feature extractor model\n",
        "    inputs1 = Input(shape=(1000 , ))\n",
        "    fe1 = Dropout(0.4)(inputs1)\n",
        "    fe2 = Dense(512 , activation='relu')(fe1)\n",
        "    fe3 = Dense(256 , activation = 'relu')(fe2)\n",
        "    fe4 = Dense(128 , activation = 'relu')(fe3)\n",
        "    fe5 = Dense(64 , activation = 'relu')(fe4)\n",
        "    \n",
        "    # sequence model\n",
        "    inputs2 = Input(shape=(max_length,))\n",
        "    se1 = Embedding(vocab_size,512,mask_zero=True )(inputs2) # mask_zero = ignore padding\n",
        "    se2 = Dropout(0.4)(se1)\n",
        "    se3 = LSTM(512 , return_sequences=True)(se2)\n",
        "    se4 = Dropout(0.4)(se3)\n",
        "    se5 = LSTM(256, return_sequences=True)(se4)\n",
        "    se6 = Dropout(0.4)(se5)\n",
        "    se7 = LSTM(128, return_sequences=True)(se6)\n",
        "    se8 = Dropout(0.4)(se7)\n",
        "    se9 = LSTM(64)(se8)\n",
        "    \n",
        "    \n",
        "    #decoder Model\n",
        "    decoder1 = add([fe5 , se9])\n",
        "    decoder2 = Dense(128 , activation='relu')(decoder1)\n",
        "    decoder3 = Dense(256 , activation='relu')(decoder2)\n",
        "    decoder4 = Dense(512 , activation='relu')(decoder3)\n",
        "    outputs = Dense(vocab_size , activation='softmax')(decoder4)\n",
        "    \n",
        "    # combine both image and text\n",
        "    model = Model([inputs1 , inputs2] , outputs)\n",
        "    model.compile(loss='categorical_crossentropy' , optimizer = 'adam')\n",
        "    \n",
        "    # summary\n",
        "    print(model.summary())\n",
        "    \n",
        "    return model"
      ],
      "execution_count": 43,
      "outputs": []
    },
    {
      "cell_type": "code",
      "metadata": {
        "id": "yMqgZT_h-oXw"
      },
      "source": [
        "# below code progressivly load the code in batches\n",
        "def data_generator(descriptions , photos , tokenizer , max_length):\n",
        "    while 1:\n",
        "        for key , desc_list in descriptions.items():\n",
        "            photo = photos[key][0]\n",
        "            in_img , in_seq , out_seq = create_sequences(tokenizer , max_length , desc_list , photo)\n",
        "            in_final_seq = [in_img , in_seq]\n",
        "            yield (in_final_seq, out_seq)"
      ],
      "execution_count": 44,
      "outputs": []
    },
    {
      "cell_type": "code",
      "metadata": {
        "id": "d_OSLOU9KdbV"
      },
      "source": [
        "# train_descriptions.pop('2258277193_586949ec62.jpg.1')"
      ],
      "execution_count": 45,
      "outputs": []
    },
    {
      "cell_type": "code",
      "metadata": {
        "colab": {
          "base_uri": "https://localhost:8080/"
        },
        "id": "QgrSvmg9-oU3",
        "outputId": "6ff93a44-36b4-4867-8768-918e72758201"
      },
      "source": [
        "print('len :', len(train))\n",
        "print('Descriptions :',len(train_descriptions))\n",
        "print('photos train :',len(train_features))\n",
        "print('Vocabulary size :',vocab_size)\n",
        "max_len = max_length(train_descriptions)\n",
        "print('Description max length :', max_len)"
      ],
      "execution_count": 46,
      "outputs": [
        {
          "output_type": "stream",
          "text": [
            "len : 6146\n",
            "Descriptions : 6146\n",
            "photos train : 6146\n",
            "Vocabulary size : 4919\n",
            "Description max length : 34\n"
          ],
          "name": "stdout"
        }
      ]
    },
    {
      "cell_type": "code",
      "metadata": {
        "id": "1027Pso0-oSH"
      },
      "source": [
        "from keras.models import load_model"
      ],
      "execution_count": 47,
      "outputs": []
    },
    {
      "cell_type": "code",
      "metadata": {
        "colab": {
          "base_uri": "https://localhost:8080/"
        },
        "id": "4PI0h3mw-5e3",
        "outputId": "75a806f3-9d24-4e12-bb2b-668bbd3835e9"
      },
      "source": [
        "model = define_Model(vocab_size , max_len)\n",
        "epochs = 5\n",
        "steps = len(train_descriptions)\n",
        "\n",
        "for i in range(epochs):\n",
        "    generator = data_generator(train_descriptions , train_features , tokenizer , max_len)\n",
        "    # model.fit_generator()\n",
        "    model.fit_generator(generator , epochs = 1 , steps_per_epoch = steps , verbose = 1)\n",
        "    \n",
        "    model.save('model_'+ str(i+1) + '.h5')"
      ],
      "execution_count": 48,
      "outputs": [
        {
          "output_type": "stream",
          "text": [
            "Model: \"model_3\"\n",
            "__________________________________________________________________________________________________\n",
            "Layer (type)                    Output Shape         Param #     Connected to                     \n",
            "==================================================================================================\n",
            "input_2 (InputLayer)            [(None, 34)]         0                                            \n",
            "__________________________________________________________________________________________________\n",
            "embedding (Embedding)           (None, 34, 512)      2518528     input_2[0][0]                    \n",
            "__________________________________________________________________________________________________\n",
            "dropout_1 (Dropout)             (None, 34, 512)      0           embedding[0][0]                  \n",
            "__________________________________________________________________________________________________\n",
            "lstm (LSTM)                     (None, 34, 512)      2099200     dropout_1[0][0]                  \n",
            "__________________________________________________________________________________________________\n",
            "input_1 (InputLayer)            [(None, 1000)]       0                                            \n",
            "__________________________________________________________________________________________________\n",
            "dropout_2 (Dropout)             (None, 34, 512)      0           lstm[0][0]                       \n",
            "__________________________________________________________________________________________________\n",
            "dropout (Dropout)               (None, 1000)         0           input_1[0][0]                    \n",
            "__________________________________________________________________________________________________\n",
            "lstm_1 (LSTM)                   (None, 34, 256)      787456      dropout_2[0][0]                  \n",
            "__________________________________________________________________________________________________\n",
            "dense (Dense)                   (None, 512)          512512      dropout[0][0]                    \n",
            "__________________________________________________________________________________________________\n",
            "dropout_3 (Dropout)             (None, 34, 256)      0           lstm_1[0][0]                     \n",
            "__________________________________________________________________________________________________\n",
            "dense_1 (Dense)                 (None, 256)          131328      dense[0][0]                      \n",
            "__________________________________________________________________________________________________\n",
            "lstm_2 (LSTM)                   (None, 34, 128)      197120      dropout_3[0][0]                  \n",
            "__________________________________________________________________________________________________\n",
            "dense_2 (Dense)                 (None, 128)          32896       dense_1[0][0]                    \n",
            "__________________________________________________________________________________________________\n",
            "dropout_4 (Dropout)             (None, 34, 128)      0           lstm_2[0][0]                     \n",
            "__________________________________________________________________________________________________\n",
            "dense_3 (Dense)                 (None, 64)           8256        dense_2[0][0]                    \n",
            "__________________________________________________________________________________________________\n",
            "lstm_3 (LSTM)                   (None, 64)           49408       dropout_4[0][0]                  \n",
            "__________________________________________________________________________________________________\n",
            "add (Add)                       (None, 64)           0           dense_3[0][0]                    \n",
            "                                                                 lstm_3[0][0]                     \n",
            "__________________________________________________________________________________________________\n",
            "dense_4 (Dense)                 (None, 128)          8320        add[0][0]                        \n",
            "__________________________________________________________________________________________________\n",
            "dense_5 (Dense)                 (None, 256)          33024       dense_4[0][0]                    \n",
            "__________________________________________________________________________________________________\n",
            "dense_6 (Dense)                 (None, 512)          131584      dense_5[0][0]                    \n",
            "__________________________________________________________________________________________________\n",
            "dense_7 (Dense)                 (None, 4919)         2523447     dense_6[0][0]                    \n",
            "==================================================================================================\n",
            "Total params: 9,033,079\n",
            "Trainable params: 9,033,079\n",
            "Non-trainable params: 0\n",
            "__________________________________________________________________________________________________\n",
            "None\n"
          ],
          "name": "stdout"
        },
        {
          "output_type": "stream",
          "text": [
            "/usr/local/lib/python3.7/dist-packages/keras/engine/training.py:1915: UserWarning: `Model.fit_generator` is deprecated and will be removed in a future version. Please use `Model.fit`, which supports generators.\n",
            "  warnings.warn('`Model.fit_generator` is deprecated and '\n"
          ],
          "name": "stderr"
        },
        {
          "output_type": "stream",
          "text": [
            "6146/6146 [==============================] - 2389s 385ms/step - loss: 4.7390\n"
          ],
          "name": "stdout"
        },
        {
          "output_type": "stream",
          "text": [
            "/usr/local/lib/python3.7/dist-packages/keras/utils/generic_utils.py:497: CustomMaskWarning: Custom mask layers require a config and must override get_config. When loading, the custom mask layer must be passed to the custom_objects argument.\n",
            "  category=CustomMaskWarning)\n"
          ],
          "name": "stderr"
        },
        {
          "output_type": "stream",
          "text": [
            "6146/6146 [==============================] - 2363s 384ms/step - loss: 3.6554\n",
            "6146/6146 [==============================] - 2311s 376ms/step - loss: 3.4569\n",
            "6146/6146 [==============================] - 2323s 378ms/step - loss: 3.3295\n",
            "6146/6146 [==============================] - 2295s 373ms/step - loss: 3.2436\n"
          ],
          "name": "stdout"
        }
      ]
    },
    {
      "cell_type": "markdown",
      "metadata": {
        "id": "FAyApN4itCfg"
      },
      "source": [
        "Bleu Score For Model Evalution"
      ]
    },
    {
      "cell_type": "code",
      "metadata": {
        "id": "qblQcdHq-5Zm"
      },
      "source": [
        "def word_for_id(integer , tokenizer):\n",
        "    for word,index in tokenizer.word_index.items():\n",
        "        if index == integer:\n",
        "            return word"
      ],
      "execution_count": 49,
      "outputs": []
    },
    {
      "cell_type": "code",
      "metadata": {
        "id": "DJKwTFyO-5Wn"
      },
      "source": [
        "def generate_desc(model , tokenizer , photo , max_length):\n",
        "    \n",
        "    input_text = 'startseq'\n",
        "    \n",
        "    for i in range(max_length):\n",
        "        \n",
        "        sequence = tokenizer.texts_to_sequences([input_text])[0]\n",
        "        sequence = pad_sequences([sequence] , maxlen=max_length)\n",
        "        \n",
        "        # predict the next word\n",
        "        next_word_id = model.predict([photo,sequence],verbose = 0)\n",
        "        \n",
        "        # get highest probality word from list of words\n",
        "        next_word_id = np.argmax(next_word_id)\n",
        "        \n",
        "        # get word from id\n",
        "        word = word_for_id(next_word_id , tokenizer)\n",
        "        \n",
        "        if word is None:\n",
        "            break\n",
        "            \n",
        "        # update input text\n",
        "        input_text += ' '+ word\n",
        "        \n",
        "        if word == 'endseq':\n",
        "            break\n",
        "            \n",
        "    return input_text"
      ],
      "execution_count": 50,
      "outputs": []
    },
    {
      "cell_type": "code",
      "metadata": {
        "id": "Qz_ePJPE-5To"
      },
      "source": [
        "from nltk.translate.bleu_score import corpus_bleu"
      ],
      "execution_count": 51,
      "outputs": []
    },
    {
      "cell_type": "code",
      "metadata": {
        "id": "on2Zw_jn-5QL"
      },
      "source": [
        "def evaluate_model(model , desciptions , photos , tokenizer , max_length):\n",
        "    actual , predicted = list() , list()\n",
        "    \n",
        "    for key , desc_list in desciptions.items():\n",
        "        generated_desc = generate_desc(model , tokenizer , photos[key] , max_length)\n",
        "        \n",
        "        references = [d.split() for d in desc_list]\n",
        "        actual.append(references)\n",
        "        predicted.append(generated_desc.split())\n",
        "    \n",
        "    print('Bleu_Score -1 = %f'%corpus_bleu(actual , predicted , weights=(1,0,0,0)))\n",
        "    \n",
        "    print('Bleu_Score -2 = %f'%corpus_bleu(actual , predicted , weights=(0.5,0.5,0,0)))\n",
        "    \n",
        "    print('Bleu_Score -3 = %f'%corpus_bleu(actual , predicted , weights=(0.33,0.33,0.33,0))) \n",
        "    \n",
        "    print('Bleu_Score -4 = %f'%corpus_bleu(actual , predicted , weights=(0.25,0.25,0.25,0.25)))"
      ],
      "execution_count": 52,
      "outputs": []
    },
    {
      "cell_type": "markdown",
      "metadata": {
        "id": "T0WwrFHjNlNL"
      },
      "source": [
        "**Model Predicting**"
      ]
    },
    {
      "cell_type": "code",
      "metadata": {
        "id": "Oqql3XoENkXN",
        "colab": {
          "base_uri": "https://localhost:8080/",
          "height": 232
        },
        "outputId": "2fd71920-dd1c-4137-b8e9-5a06e9d98bb9"
      },
      "source": [
        "test = set(descriptions['image_id'][10001:])\n",
        "test_descriptions = load_clean_descriptions('descriptions.txt',test)\n",
        "test = pd.DataFrame(test)\n",
        "test2 = test[0].apply(lambda x : x.replace('.jpg' , '')) # remove jpg sign"
      ],
      "execution_count": 54,
      "outputs": [
        {
          "output_type": "error",
          "ename": "NameError",
          "evalue": "ignored",
          "traceback": [
            "\u001b[0;31m---------------------------------------------------------------------------\u001b[0m",
            "\u001b[0;31mNameError\u001b[0m                                 Traceback (most recent call last)",
            "\u001b[0;32m<ipython-input-54-43b1592c29fc>\u001b[0m in \u001b[0;36m<module>\u001b[0;34m()\u001b[0m\n\u001b[0;32m----> 1\u001b[0;31m \u001b[0mtest\u001b[0m \u001b[0;34m=\u001b[0m \u001b[0mset\u001b[0m\u001b[0;34m(\u001b[0m\u001b[0mdescriptions\u001b[0m\u001b[0;34m[\u001b[0m\u001b[0;34m'image_id'\u001b[0m\u001b[0;34m]\u001b[0m\u001b[0;34m[\u001b[0m\u001b[0;36m10001\u001b[0m\u001b[0;34m:\u001b[0m\u001b[0;34m]\u001b[0m\u001b[0;34m)\u001b[0m\u001b[0;34m\u001b[0m\u001b[0;34m\u001b[0m\u001b[0m\n\u001b[0m\u001b[1;32m      2\u001b[0m \u001b[0mtest_descriptions\u001b[0m \u001b[0;34m=\u001b[0m \u001b[0mload_clean_descriptions\u001b[0m\u001b[0;34m(\u001b[0m\u001b[0;34m'descriptions.txt'\u001b[0m\u001b[0;34m,\u001b[0m\u001b[0mtest\u001b[0m\u001b[0;34m)\u001b[0m\u001b[0;34m\u001b[0m\u001b[0;34m\u001b[0m\u001b[0m\n\u001b[1;32m      3\u001b[0m \u001b[0mtest\u001b[0m \u001b[0;34m=\u001b[0m \u001b[0mpd\u001b[0m\u001b[0;34m.\u001b[0m\u001b[0mDataFrame\u001b[0m\u001b[0;34m(\u001b[0m\u001b[0mtest\u001b[0m\u001b[0;34m)\u001b[0m\u001b[0;34m\u001b[0m\u001b[0;34m\u001b[0m\u001b[0m\n\u001b[1;32m      4\u001b[0m \u001b[0mtest2\u001b[0m \u001b[0;34m=\u001b[0m \u001b[0mtest\u001b[0m\u001b[0;34m[\u001b[0m\u001b[0;36m0\u001b[0m\u001b[0;34m]\u001b[0m\u001b[0;34m.\u001b[0m\u001b[0mapply\u001b[0m\u001b[0;34m(\u001b[0m\u001b[0;32mlambda\u001b[0m \u001b[0mx\u001b[0m \u001b[0;34m:\u001b[0m \u001b[0mx\u001b[0m\u001b[0;34m.\u001b[0m\u001b[0mreplace\u001b[0m\u001b[0;34m(\u001b[0m\u001b[0;34m'.jpg'\u001b[0m \u001b[0;34m,\u001b[0m \u001b[0;34m''\u001b[0m\u001b[0;34m)\u001b[0m\u001b[0;34m)\u001b[0m \u001b[0;31m# remove jpg sign\u001b[0m\u001b[0;34m\u001b[0m\u001b[0;34m\u001b[0m\u001b[0m\n",
            "\u001b[0;31mNameError\u001b[0m: name 'descriptions' is not defined"
          ]
        }
      ]
    },
    {
      "cell_type": "code",
      "metadata": {
        "id": "MRRBvv7yJDyw"
      },
      "source": [
        "test_features = load_photo_features('features.pkl',test2)"
      ],
      "execution_count": null,
      "outputs": []
    },
    {
      "cell_type": "code",
      "metadata": {
        "id": "azFNg3-XnYat"
      },
      "source": [
        "from keras.models import load_model\n",
        "filename = 'model_11.h5'\n",
        "model = load_model(filename)"
      ],
      "execution_count": null,
      "outputs": []
    },
    {
      "cell_type": "code",
      "metadata": {
        "id": "J6YxIHrynYXQ"
      },
      "source": [
        "print('len of test dataset',len(test))\n",
        "print('len of Descriptions',len(test_descriptions))\n",
        "print('len of Test features',len(test_features))"
      ],
      "execution_count": null,
      "outputs": []
    },
    {
      "cell_type": "code",
      "metadata": {
        "id": "bRL_R546nYUR"
      },
      "source": [
        "evaluate_model(model , test_descriptions , test_features , tokenizer , max_len)\n",
        "pickle.dump(tokenizer , open('tokenizer.pkl','wb'))"
      ],
      "execution_count": null,
      "outputs": []
    },
    {
      "cell_type": "code",
      "metadata": {
        "id": "POTqghT5njaQ"
      },
      "source": [
        "def word_for_id(integer , tokenizer):\n",
        "    for word,index in tokenizer.word_index.items():\n",
        "        if index == integer:\n",
        "            return word\n",
        "        \n",
        "def generate_desc(model , tokenizer , photo , max_length):\n",
        "    \n",
        "    input_text = 'startseq'\n",
        "    \n",
        "    for i in range(max_length):\n",
        "        \n",
        "        sequence = tokenizer.texts_to_sequences([input_text])[0]\n",
        "        sequence = pad_sequences([sequence] , maxlen=max_length)\n",
        "        \n",
        "        # predict the next word\n",
        "        next_word_id = model.predict([photo,sequence],verbose = 0)\n",
        "        \n",
        "        # get highest probality word from list of words\n",
        "        next_word_id = np.argmax(next_word_id)\n",
        "        \n",
        "        # get word from id\n",
        "        word = word_for_id(next_word_id , tokenizer)\n",
        "        \n",
        "        if word is None:\n",
        "            break\n",
        "            \n",
        "        # update input text\n",
        "        input_text += ' '+ word\n",
        "        \n",
        "        if word == 'endseq':\n",
        "            break\n",
        "            \n",
        "    return input_text"
      ],
      "execution_count": null,
      "outputs": []
    },
    {
      "cell_type": "code",
      "metadata": {
        "id": "p2u0ppUYnjXK"
      },
      "source": [
        "def extract_features_for_one_image(filename):\n",
        "    model = ResNet50()\n",
        "    model.layers.pop()\n",
        "    \n",
        "    model = Model(inputs = model.inputs , outputs = model.layers[-1].output)\n",
        "    \n",
        "    image = load_img(filename , target_size=(224,224))\n",
        "    \n",
        "    image = img_to_array(image)\n",
        "    \n",
        "    image = image.reshape((1,image.shape[0],image.shape[1],image.shape[2]))\n",
        "    \n",
        "    image = preprocess_input(image)\n",
        "    \n",
        "    feature = model.predict(image , verbose = 0)\n",
        "    \n",
        "    return feature"
      ],
      "execution_count": null,
      "outputs": []
    },
    {
      "cell_type": "code",
      "metadata": {
        "id": "oDKAdWdsnjUY"
      },
      "source": [
        "def get_image_caption(filename,model):\n",
        "    tokenizer = load(open('tokenizer.pkl','rb'))\n",
        "    photo = extract_features_for_one_image(filename)\n",
        "    desc = generate_desc(model , tokenizer , photo , 80)\n",
        "    desc = desc.replace('startseq','')\n",
        "    desc = desc.replace('endseq','')\n",
        "    return desc.title()"
      ],
      "execution_count": null,
      "outputs": []
    },
    {
      "cell_type": "code",
      "metadata": {
        "id": "zo6NQTDkn0iv"
      },
      "source": [
        "model2 = load_model('model_11.h5')\n"
      ],
      "execution_count": null,
      "outputs": []
    },
    {
      "cell_type": "code",
      "metadata": {
        "id": "P3Vkcm0Fn0f2"
      },
      "source": [
        "from IPython.display import Image,display\n",
        "filename = 'test_image.jpg'\n",
        "print(get_image_caption(filename,model2))\n",
        "display(Image(filename))"
      ],
      "execution_count": null,
      "outputs": []
    },
    {
      "cell_type": "code",
      "metadata": {
        "id": "WN9AMdGzn8B7"
      },
      "source": [
        "\n",
        "filename = 'test_image2.jpg'\n",
        "print(get_image_caption(filename,model2))\n",
        "display(Image(filename))"
      ],
      "execution_count": null,
      "outputs": []
    }
  ]
}