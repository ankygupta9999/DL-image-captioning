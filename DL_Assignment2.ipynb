{
  "nbformat": 4,
  "nbformat_minor": 0,
  "metadata": {
    "colab": {
      "name": "DL_Assignment2.ipynb",
      "provenance": [],
      "collapsed_sections": []
    },
    "kernelspec": {
      "name": "python3",
      "display_name": "Python 3"
    },
    "language_info": {
      "name": "python"
    }
  },
  "cells": [
    {
      "cell_type": "code",
      "metadata": {
        "id": "NHi0dbULuo2a"
      },
      "source": [
        "# copy dataset\n",
        "#!wget --no-check-certificate \\\n",
        "#  https://drive.google.com/file/d/1A8g74ohdb_5d2fPjc72yF7GxufE9GRcu/view?usp=sharing \\\n",
        "#  -O /tmp/set_1.pkl\n",
        "\n",
        "#!wget --no-check-certificate \\\n",
        "#  https://drive.google.com/file/d/1-mPKMpphaKqtT26ZzbR5hCHGedkNyAf1/view?usp=sharing \\\n",
        "#  -O /tmp/Image_captioning_Dataset.zip\n",
        "\n",
        "#!pip install PyDrive\n",
        "\n",
        "#from pydrive.auth import GoogleAuth\n",
        "#from pydrive.drive import GoogleDrive\n",
        "#from google.colab import auth\n",
        "#from oauth2client.client import GoogleCredentials\n",
        "\n",
        "#auth.authenticate_user()\n",
        "#gauth = GoogleAuth()\n",
        "#gauth.credentials = GoogleCredentials.get_application_default()\n",
        "#drive = GoogleDrive(gauth)\n",
        "\n",
        "# https://drive.google.com/file/d/1uaD3aDq1Xm7jFII6NYhbegtyREC6NAq-/view?usp=sharing\n",
        "#downloaded = drive.CreateFile({'id':\"1uaD3aDq1Xm7jFII6NYhbegtyREC6NAq-\"})   # replace the id with id of file you want to access\n",
        "#downloaded.GetContentFile('set_1.pkl')        # replace the file name with your file"
      ],
      "execution_count": 1,
      "outputs": []
    },
    {
      "cell_type": "code",
      "metadata": {
        "id": "SM8-LM6Qisrv"
      },
      "source": [
        "from google.colab import drive\n",
        "\n",
        "drive.mount('/content/gdrive')"
      ],
      "execution_count": null,
      "outputs": []
    },
    {
      "cell_type": "code",
      "metadata": {
        "colab": {
          "base_uri": "https://localhost:8080/"
        },
        "id": "Fith7wqfZ2mp",
        "outputId": "61da214d-81f7-4775-eaab-de7e25957e6e"
      },
      "source": [
        "import pandas as pd\n",
        "import pickle\n",
        "import os\n",
        "\n",
        "FILE_PATH = \"/content/gdrive/MyDrive/Datasets\"\n",
        "pickle_name = os.path.join(FILE_PATH, \"set_1.pkl\")\n",
        "\n",
        "# Method 1\n",
        "objects = pd.read_pickle(pickle_name)\n",
        "df = pd.DataFrame(objects)\n",
        "print(type(df))\n",
        "print(df)\n",
        "\n",
        "# Method 2\n",
        "pickle_file = open(pickle_name, \"rb\")\n",
        "objects = []\n",
        "\n",
        "while True:\n",
        "    try:\n",
        "        objects.append(pickle.load(pickle_file))\n",
        "    except EOFError:\n",
        "        break\n",
        "\n",
        "pickle_file.close()\n",
        "df = pd.DataFrame(objects)\n",
        "print(type(df))\n",
        "print(df)"
      ],
      "execution_count": 27,
      "outputs": [
        {
          "output_type": "stream",
          "text": [
            "<class 'pandas.core.frame.DataFrame'>\n",
            "                                                       0\n",
            "0      2089122314_40d5739aef.jpg#3\\tA fluffy , tri-co...\n",
            "1      1295671216_cde1b9c9d1.jpg#0\\tA crowd of person...\n",
            "2      3183195185_cd0ff994a1.jpg#4\\tThe man and boy s...\n",
            "3      2949353587_64c54e9589.jpg#1\\tA brown dog be pl...\n",
            "4      361092202_3d70144ebd.jpg#2\\tA man hike with a ...\n",
            "...                                                  ...\n",
            "24995  3503623999_bbd5dcfb18.jpg#0\\tA man in a crowd ...\n",
            "24996  542405691_0594b1ce72.jpg#0\\tA boy kick a ball ...\n",
            "24997  1244485675_822e6efe60.jpg#1\\tA boy look at his...\n",
            "24998  475778645_65b7343c47.jpg#4\\tA small child clim...\n",
            "24999  381052465_722e00807b.jpg#4\\tPeople put out a f...\n",
            "\n",
            "[25000 rows x 1 columns]\n",
            "<class 'pandas.core.frame.DataFrame'>\n",
            "                                               0      ...                                              24999\n",
            "0  2089122314_40d5739aef.jpg#3\\tA fluffy , tri-co...  ...  381052465_722e00807b.jpg#4\\tPeople put out a f...\n",
            "\n",
            "[1 rows x 25000 columns]\n"
          ],
          "name": "stdout"
        }
      ]
    }
  ]
}